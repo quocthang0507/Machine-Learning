{
  "cells": [
    {
      "metadata": {},
      "cell_type": "markdown",
      "source": "# Welcome to Azure Notebooks!\n\nPython is a free, open source programming language which is extremely popular for statistical analysis and AI.\n\nHere, we will give you a taste of what using python is like.\n\nLet's get started. We’ve provided the data for you, and cleaned it up so it’s ready for analysis. You can __move through the steps by clicking on the run button__ just above this notebook."
    },
    {
      "metadata": {},
      "cell_type": "markdown",
      "source": "Exercise 1 - Introduction To Jupyter Notebooks\n==========================\n\nThe purpose of this exercise is to get you familiar with using Jupyter Notebooks. Don't worry if you find the coding difficult - this is not a Python course. You will slowly learn more as you go and you definitely don't need to understand every line of code.\n\nStep 1\n--------\n\nThese notebooks contain places where you can execute code, like below.\n\nGive it a go. Click on the code below, then hit the \"Run\" button above."
    },
    {
      "metadata": {
        "trusted": true
      },
      "cell_type": "code",
      "source": "print(\"The code ran successfully!\")",
      "execution_count": 1,
      "outputs": [
        {
          "output_type": "stream",
          "text": "The code ran successfully!\n",
          "name": "stdout"
        }
      ]
    },
    {
      "metadata": {},
      "cell_type": "markdown",
      "source": "If all went well, the code should have printed a message for you.\n\nAt the start of most programming exercises we have to load things to help us do things easily, like creating graphs. Click on the code below, then hit the \"Run\" button to load graphing capabilities for later in the exercise."
    },
    {
      "metadata": {
        "trusted": true
      },
      "cell_type": "code",
      "source": "import warnings\nwarnings.filterwarnings(\"ignore\")\nimport matplotlib.pyplot as graph",
      "execution_count": 2,
      "outputs": []
    },
    {
      "metadata": {
        "slideshow": {
          "slide_type": "slide"
        }
      },
      "cell_type": "markdown",
      "source": "Step 2\n--------\n\nLet's get it to print a message you choose this time. \n\nBelow, write a message between the speech marks. It is okay to use spaces, numbers, or letters. Your message should look red. For example, `print(\"this is my message\")`."
    },
    {
      "metadata": {
        "trusted": true
      },
      "cell_type": "code",
      "source": "###--- WRITE A MESSAGE BETWEEN THE SPEECH MARKS IN THE LINE BELOW, THEN HIT RUN. ---###\n###--- IT IS OK TO USE SPACES, NUMBERS, OR LETTERS. YOUR MESSAGE SHOULD LOOK RED. ---###\n###--- FOR EXAMPLE print(\"this is my message\") ---###\nprint(\"this is my message\")\n###",
      "execution_count": 1,
      "outputs": [
        {
          "output_type": "stream",
          "text": "this is my message\n",
          "name": "stdout"
        }
      ]
    },
    {
      "metadata": {},
      "cell_type": "markdown",
      "source": "You will notice hash symbols (`#`). Anything after a `#` is ignored by the computer. This lets us leave notes for you to read so that you understand the code better."
    },
    {
      "metadata": {},
      "cell_type": "markdown",
      "source": "Step 3\n--------\n\nPython lets us save things and use them later. In this exercise we will save your message"
    },
    {
      "metadata": {
        "trusted": true
      },
      "cell_type": "code",
      "source": "###--- WRITE A MESSAGE BETWEEN THE SPEECH MARKS IN THE LINE BELOW, THEN HIT RUN. ---###\nmy_message = \"this is my message\"\n###\n\nprint(my_message) ",
      "execution_count": 2,
      "outputs": [
        {
          "output_type": "stream",
          "text": "this is my message\n",
          "name": "stdout"
        }
      ]
    },
    {
      "metadata": {},
      "cell_type": "markdown",
      "source": "Okay, what's happened here? \n\nIn the real world we might put something in an envelope (like a letter, or picture). On the envelope we write something (give it a name), like \"my_letter_for_alice\".\n\nIn a computer, we do something similar. The thing that holds information (like the envelope) is called a **variable**. We also give each one a name. \n\nActually, you've already done this.\n\nFirst, you made a message, then you saved it to a **variable** called 'my_message':\n```\nmy_message = \"this is my message!\"\n              ↑↑↑\n              the message you made\n \nmy_message = \"this is my message!\"\n          ↑↑↑\n          the equals sign means to save it to the variable on the left\n     \nmy_message = \"this is my message!\"\n↑↑↑\nthis is the name of your variable. They must never have spaces in them.\n```"
    },
    {
      "metadata": {},
      "cell_type": "markdown",
      "source": "Step 4\n-------\n\nLet's try that again, but using a number this time."
    },
    {
      "metadata": {
        "trusted": true
      },
      "cell_type": "code",
      "source": "my_first_number = 2\nprint(my_first_number)\nprint(my_first_number)",
      "execution_count": 3,
      "outputs": [
        {
          "output_type": "stream",
          "text": "2\n2\n",
          "name": "stdout"
        }
      ]
    },
    {
      "metadata": {},
      "cell_type": "markdown",
      "source": "In the real world, we might then do something with this information. For example, we might choose to read it. We can read it as many times as we like.\n\nOn the computer, we can also do things with this information. Here, you asked the computer to print the message to the screen twice.\n\n```\nprint(my_first_number) \nprint(my_first_number)\n```"
    },
    {
      "metadata": {},
      "cell_type": "markdown",
      "source": "How did you do this though?\n\n```\nprint(....)\n↑↑↑\n```\nthis is what you are asking the computer to do. It is a **method** called print. There are many methods available. Soon, we will use methods that make graphs.\n```\nprint(....)\n     ↑    ↑\n```\nmethods have round brackets. What you write here between these is given to the method. \n```\nprint(my_first_number)\n      ↑↑↑\n```\nIn this case, we gave it 'my_first_number', and it took it and printed it to the screen.               \n      \n\nStep 5\n-------\n\nOk, let's make a graph from some data."
    },
    {
      "metadata": {
        "trusted": true
      },
      "cell_type": "code",
      "source": "# These are our x values\nx_values = [1, 2, 3]\n\n# Below are our y values\n\n###--- BELOW IN THE SQUARE BRACKETS, REPLACE THE ?'S WITH THREE NUMBERS SEPARATED BY COMMAS ---###\n###--- THEN PRESS THE RUN BUTTON ---###\ny_values = [3, 1, 7]\n# for example y_values = [3, 1, 7]\n###\n\n# This makes a bar graph. We give it our x and y values\ngraph.scatter(x_values, y_values)",
      "execution_count": 3,
      "outputs": [
        {
          "output_type": "execute_result",
          "execution_count": 3,
          "data": {
            "text/plain": "<matplotlib.collections.PathCollection at 0x7f7f280bba90>"
          },
          "metadata": {}
        },
        {
          "output_type": "display_data",
          "data": {
            "image/png": "[encoded data removed]",
            "text/plain": "<Figure size 432x288 with 1 Axes>"
          },
          "metadata": {
            "needs_background": "light"
          }
        }
      ]
    },
    {
      "metadata": {},
      "cell_type": "markdown",
      "source": "This is very simple, but here x and y are our data.\n\nIf you'd like, have a play with the code:\n* change x and y values and see how the graph changes. Make sure they have the same count of numbers in them.\n* change `graph.bar` to `graph.scatter` to change the type of graph\n\n\nStep 6\n----------------\n\nFrom time to time, we will load data from text files, rather than write it into the code. You can't see these text files in your browser because they are saved on the server running this website. We can load them using code, though. Let's load one up, look at it, then graph it."
    },
    {
      "metadata": {
        "trusted": true
      },
      "cell_type": "code",
      "source": "import pandas as pd\n\n# The next line loads information about chocolate bars and saves it in a variable called 'data'\ndata = pd.read_csv('Data/chocolate data.txt', index_col = False, sep = '\\t')\n\n###--- WRITE print(data) BELOW TO LOOK AT THE DATA ---###\nprint(data)\n###",
      "execution_count": 13,
      "outputs": [
        {
          "output_type": "stream",
          "text": "    weight  cocoa_percent  sugar_percent  milk_percent  customer_happiness\n0      185             65             11            24                  47\n1      247             44             34            22                  55\n2      133             33             21            47                  35\n3      145             30             38            32                  34\n4      110             22             70             7                  40\n5      134             25             38            37                  40\n6      196             18             34            48                  41\n7      118             45             38            17                  38\n8      235             45             12            43                  50\n9      107              8              2            90                  25\n10     106             10             72            18                  22\n11     151             42             20            38                  47\n12     144             18             36            46                  26\n13     160             39             40            21                  47\n14      59             17             47            37                  22\n15     221             39             28            33                  46\n16      81             57             32            10                  48\n17     135             19             36            45                  27\n18      85             43             20            37                  28\n19     246             35             43            22                  52\n20     150              9             49            42                  31\n21     124             49             32            20                  43\n22     216             11             12            76                  49\n23     227             15             26            60                  43\n24     105             13             61            26                  27\n25      27             61              9            30                  30\n26     225             48              2            51                  58\n27      50             43             29            28                  23\n28     156             53             44             4                  40\n29     155             76             24             0                  54\n..     ...            ...            ...           ...                 ...\n70     140             44              5            51                  51\n71     212             38             55             6                  62\n72      67             13             72            15                  14\n73     112             24             59            18                  26\n74     234             42             41            17                  56\n75     233             21             28            51                  60\n76       2             28             10            62                  12\n77      81             37             41            22                  35\n78     222             90              5             5                  60\n79     223             39             21            40                  54\n80     181              9             40            51                  52\n81      34             46             28            26                  22\n82     132             19             45            36                  29\n83     103             39             23            38                  41\n84      45             35             36            29                  18\n85      40             13             52            35                  22\n86     216             12             73            15                  41\n87     107             41             23            36                  32\n88      42             47             33            20                  31\n89     165             44             30            26                  52\n90      33             53              3            45                  34\n91     162              5             56            39                  36\n92     249              4             14            82                  52\n93     144             79              3            18                  45\n94     215              3             20            78                  41\n95     194              0             12            88                  29\n96      95             34             20            46                  26\n97      44             29             40            31                  19\n98     218             46             25            28                  49\n99     169             88              1            12                  57\n\n[100 rows x 5 columns]\n",
          "name": "stdout"
        }
      ]
    },
    {
      "metadata": {},
      "cell_type": "markdown",
      "source": "Each row (horizontal) shows information about one chocolate bar. For example, the first chocolate bar was:\n* 185 grams\n* 65% cocoa\n* 11% sugar\n* 24% milk\n* and a customer said they were 47% happy with it\n\nWe would probably say that our chocolate bar features were weight, cocoa %, sugar % and milk %\n\nConclusion\n----------------\n\n__Well done__ that's the end of programming exercise one.\n\nYou can now go back to the course and click __'Next Step'__ to move onto some key concepts of AI - models and error.\n\n\nOptional Step 7\n----------------\nWhen we say \"optional\" we mean exercises that might help you learn, but you don't have to do. \n\nWe can graph some of these features in scatter plot. Let's put cocoa_percent on the x-axis and customer happiness on the y axis.\nFinish the task below and then hit run"
    },
    {
      "metadata": {
        "trusted": true
      },
      "cell_type": "code",
      "source": "x_values=data.cocoa_percent\n\n###--- BELOW, DELETE ??? AND WRITE customer_happiness ---###\ny_values=data.customer_happiness\n###\n\ngraph.scatter(x_values, y_values)",
      "execution_count": 14,
      "outputs": [
        {
          "output_type": "execute_result",
          "execution_count": 14,
          "data": {
            "text/plain": "<matplotlib.collections.PathCollection at 0x7f01f6993630>"
          },
          "metadata": {}
        },
        {
          "output_type": "display_data",
          "data": {
            "image/png": "[encoded data removed]",
            "text/plain": "<Figure size 432x288 with 1 Axes>"
          },
          "metadata": {
            "needs_background": "light"
          }
        }
      ]
    },
    {
      "metadata": {},
      "cell_type": "markdown",
      "source": "In this graph, every chocolate bar is one point. Later, we will analyse this data with AI."
    }
  ],
  "metadata": {
    "kernelspec": {
      "name": "python36",
      "display_name": "Python 3.6",
      "language": "python"
    },
    "language_info": {
      "mimetype": "text/x-python",
      "nbconvert_exporter": "python",
      "name": "python",
      "pygments_lexer": "ipython3",
      "version": "3.6.6",
      "file_extension": ".py",
      "codemirror_mode": {
        "version": 3,
        "name": "ipython"
      }
    }
  },
  "nbformat": 4,
  "nbformat_minor": 2
}