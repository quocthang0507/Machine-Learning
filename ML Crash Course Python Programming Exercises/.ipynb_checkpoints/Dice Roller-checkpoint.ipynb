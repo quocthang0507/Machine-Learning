{
  "cells": [
    {
      "metadata": {},
      "cell_type": "markdown",
      "source": "Khai báo thư viện Random "
    },
    {
      "metadata": {
        "trusted": true
      },
      "cell_type": "code",
      "source": "import random",
      "execution_count": 12,
      "outputs": []
    },
    {
      "metadata": {},
      "cell_type": "markdown",
      "source": "Khởi tạo kiểu dữ liệu từ điển lưu trữ tần số xuất hiện của con xúc xắc"
    },
    {
      "metadata": {
        "trusted": true
      },
      "cell_type": "code",
      "source": "dictionary = {\n    1: 0,\n    2: 0,\n    3: 0,\n    4: 0,\n    5: 0,\n    6: 0\n}",
      "execution_count": 13,
      "outputs": []
    },
    {
      "metadata": {},
      "cell_type": "markdown",
      "source": "Khởi tạo số lần gieo con xúc xắc"
    },
    {
      "metadata": {
        "trusted": true
      },
      "cell_type": "code",
      "source": "n = 0",
      "execution_count": 14,
      "outputs": []
    },
    {
      "metadata": {},
      "cell_type": "markdown",
      "source": "Khởi tạo mảng lưu giá trị các lần gieo"
    },
    {
      "metadata": {
        "trusted": true
      },
      "cell_type": "code",
      "source": "arr=[]",
      "execution_count": 15,
      "outputs": []
    },
    {
      "metadata": {},
      "cell_type": "markdown",
      "source": "Ghi nhận lại các kết quả"
    },
    {
      "metadata": {
        "trusted": true
      },
      "cell_type": "code",
      "source": "def probability(arr):\n    for element in arr:\n        dictionary[element] += 1\n    print(dictionary)",
      "execution_count": 16,
      "outputs": []
    },
    {
      "metadata": {},
      "cell_type": "markdown",
      "source": "Xuất kết quả tần suất"
    },
    {
      "metadata": {
        "trusted": true
      },
      "cell_type": "code",
      "source": "def statistics(arr):\n    for key in dictionary:\n        temp = dictionary[key]/n\n        print(\"f({})={}\".format(key, temp))",
      "execution_count": 17,
      "outputs": []
    },
    {
      "metadata": {},
      "cell_type": "markdown",
      "source": "Hàm chính"
    },
    {
      "metadata": {
        "trusted": true
      },
      "cell_type": "code",
      "source": "def main():\n    global arr\n    global n\n    n = int(input(\"Nhập số lần gieo con xúc xắc: \"))\n    for i in range(n):\n        value = random.randint(1, 6)\n        arr.append(value)\n    probability(arr)\n    statistics(arr)",
      "execution_count": 18,
      "outputs": []
    },
    {
      "metadata": {},
      "cell_type": "markdown",
      "source": "Chạy chương trình"
    },
    {
      "metadata": {
        "trusted": true
      },
      "cell_type": "code",
      "source": "main()",
      "execution_count": null,
      "outputs": []
    },
    {
      "metadata": {},
      "cell_type": "markdown",
      "source": "Khai báo các thư viện"
    },
    {
      "metadata": {
        "trusted": true
      },
      "cell_type": "code",
      "source": "import warnings\nwarnings.filterwarnings(\"ignore\")\nimport matplotlib.pylot as graph",
      "execution_count": null,
      "outputs": []
    },
    {
      "metadata": {},
      "cell_type": "markdown",
      "source": "Đặt giá trị cho trục tung và trục hoành"
    },
    {
      "metadata": {
        "trusted": true
      },
      "cell_type": "code",
      "source": "x_bar=[1,2,3,4,5,6]\ny_bar=arr",
      "execution_count": null,
      "outputs": []
    },
    {
      "metadata": {},
      "cell_type": "markdown",
      "source": ""
    },
    {
      "metadata": {
        "trusted": true
      },
      "cell_type": "code",
      "source": "graph.bar(x_bar,y_bar)",
      "execution_count": null,
      "outputs": []
    }
  ],
  "metadata": {
    "kernelspec": {
      "name": "python36",
      "display_name": "Python 3.6",
      "language": "python"
    },
    "language_info": {
      "mimetype": "text/x-python",
      "nbconvert_exporter": "python",
      "name": "python",
      "pygments_lexer": "ipython3",
      "version": "3.6.6",
      "file_extension": ".py",
      "codemirror_mode": {
        "version": 3,
        "name": "ipython"
      }
    }
  },
  "nbformat": 4,
  "nbformat_minor": 2
}